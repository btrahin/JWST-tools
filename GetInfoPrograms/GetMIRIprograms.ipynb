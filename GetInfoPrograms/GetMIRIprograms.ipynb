{
 "cells": [
  {
   "cell_type": "markdown",
   "metadata": {},
   "source": [
    "# Get MIRI programs info #"
   ]
  },
  {
   "cell_type": "markdown",
   "metadata": {},
   "source": [
    "**Goal:** Create a csv file with relevant information on all observed MIRI programs\n",
    "\n",
    "**Author:** Boris Trahin, Staff Scientist II, MIRI team\n",
    "\n",
    "**Last updated:** November 4, 2024"
   ]
  },
  {
   "cell_type": "markdown",
   "metadata": {},
   "source": [
    "***\n",
    "### Import useful packages"
   ]
  },
  {
   "cell_type": "code",
   "execution_count": 6,
   "metadata": {},
   "outputs": [],
   "source": [
    "from astroquery.mast.missions import MastMissions\n",
    "from astroquery.mast import Observations\n",
    "from astropy.table import unique, vstack, Table\n",
    "from datetime import date\n",
    "import pandas as pd\n",
    "update = date.today()"
   ]
  },
  {
   "cell_type": "markdown",
   "metadata": {},
   "source": [
    "***\n",
    "### Get entire catalog of MIRI observations"
   ]
  },
  {
   "cell_type": "markdown",
   "metadata": {},
   "source": [
    "<div class=\"alert alert-block alert-info\">\n",
    "Set some parameters\n",
    "</div>"
   ]
  },
  {
   "cell_type": "code",
   "execution_count": 7,
   "metadata": {},
   "outputs": [],
   "source": [
    "save = True # save the catalogs into csv file"
   ]
  },
  {
   "cell_type": "markdown",
   "metadata": {},
   "source": [
    "<div class=\"alert alert-block alert-info\">\n",
    "Get the data from MAST. This is done for each exposure types (otherwise simultaneous observations are badly referenced)\n",
    "</div>"
   ]
  },
  {
   "cell_type": "code",
   "execution_count": 8,
   "metadata": {},
   "outputs": [
    {
     "name": "stdout",
     "output_type": "stream",
     "text": [
      "Getting MIR_DARKMRS exposures...\n"
     ]
    },
    {
     "name": "stderr",
     "output_type": "stream",
     "text": [
      "WARNING: MaxResultsWarning: Maximum results returned, may not include all sources within radius. [astroquery.mast.missions]\n"
     ]
    },
    {
     "name": "stdout",
     "output_type": "stream",
     "text": [
      "Getting MIR_DARKIMG exposures...\n",
      "Getting MIR_FLATIMAGE exposures...\n",
      "Getting MIR_FLATMRS exposures...\n",
      "Getting MIR_FLATIMAGE-EXT exposures...\n",
      "Getting MIR_MRS exposures...\n",
      "Getting MIR_IMAGE exposures...\n",
      "Getting MIR_LRS-SLITLESS exposures...\n",
      "Getting MIR_LRS-FIXEDSLIT exposures...\n",
      "Getting MIR_4QPM exposures...\n",
      "Getting MIR_LYOT exposures...\n",
      "Getting MIR_CORONCAL exposures...\n",
      "Getting MIR_TACQ exposures...\n",
      "Getting MIR_TACONFIRM exposures...\n"
     ]
    }
   ],
   "source": [
    "\n",
    "good_columns = ['fileSetName', 'obs_id', 'program', 'proposal_cycle', 'date_obs', 'date_beg', 'date_end',\n",
    "                'visitgrp', 'observtn', 'bkgdtarg', 'visit',\n",
    "                'targtype', 'exp_type', 'tsovisit', 'expripar', 'detector',\n",
    "                'opticalElements', 'filter', 'subarray', 'pps_aper', 'apername',\n",
    "                'miri_channel', 'miri_band', 'miri_coronmsk', 'targ_ra', 'targ_dec',\n",
    "                'nresets', 'frmdivsr', 'nframes', 'ngroups', 'nints', 'readpat', 'numdthpt',\n",
    "                'patttype', 'miri_dithopfr', 'miri_numdsets',\n",
    "                'tframe', 'tgroup', 'effinttm','duration', 'eng_qual',\n",
    "                'hga_move', 'lamp', 'pcs_mode', 'miri_cccstate', 'exp_only', 'visitsta', 'template',\n",
    "                'targdesc', 'scicat', 'targcat', 'targprop', 'targname', 'obslabel', 'title',\n",
    "                'pi_name', 'category', 'access']\n",
    "\n",
    "exposure_types = ['MIR_DARKMRS', 'MIR_DARKIMG',\n",
    "                  'MIR_FLATIMAGE', 'MIR_FLATMRS', 'MIR_FLATIMAGE-EXT',\n",
    "                  'MIR_MRS', 'MIR_IMAGE', \n",
    "                  'MIR_LRS-SLITLESS', 'MIR_LRS-FIXEDSLIT',\n",
    "                  'MIR_4QPM','MIR_LYOT','MIR_CORONCAL', \n",
    "                  'MIR_TACQ', 'MIR_TACONFIRM']\n",
    "\n",
    "missions = MastMissions(mission='jwst')\n",
    "dfs = []\n",
    "\n",
    "for e in exposure_types:\n",
    "    print(f\"Getting {e} exposures...\")\n",
    "    results = missions.query_criteria(select_cols=good_columns,\n",
    "    exp_type = e,\n",
    "    instrume='MIRI',\n",
    "    limit=-1,\n",
    "        )\n",
    "    sub_df = results.to_pandas()\n",
    "    dfs.append(sub_df)\n",
    "df = pd.concat(dfs)\n"
   ]
  },
  {
   "cell_type": "markdown",
   "metadata": {},
   "source": [
    "<div class=\"alert alert-block alert-info\">\n",
    "Uncomment the following line to save the list of programs before the changes made in the next cell\n",
    "</div>"
   ]
  },
  {
   "cell_type": "code",
   "execution_count": null,
   "metadata": {},
   "outputs": [],
   "source": [
    "# df.to_csv('./MIRI_programs_MAST.csv', index=False) # save to a csv file and remove first index column"
   ]
  },
  {
   "cell_type": "markdown",
   "metadata": {},
   "source": [
    "<div class=\"alert alert-block alert-info\">\n",
    "Some columns are badly reference (e.g. MRS detector), so organize it.\n",
    "One can uncomment the line df2 = df2.drop_duplicates(subset=['obs_id', 'exp_type']) to remove duplicates based on obs_id and exp_type. This will keep only 1 dither position per exposure.\n",
    "</div>"
   ]
  },
  {
   "cell_type": "code",
   "execution_count": 10,
   "metadata": {},
   "outputs": [],
   "source": [
    "df2 = df.reindex(good_columns, axis=1)\n",
    "\n",
    "# Some columns are badly referenced\n",
    "df2.loc[(df2['exp_type']=='MIR_MRS'), 'detector'] = 'MIRIFUSHORT, MIRIFULONG'\n",
    "df2.loc[(df2['exp_type']=='MIR_DARKMRS'), 'detector'] = 'MIRIFUSHORT, MIRIFULONG'\n",
    "\n",
    "# df2['detector'] = df2['detector'].fillna('')\n",
    "# df2['detector'] = df2['detector'].astype(str)\n",
    "# df2['miri_channel'] = df2['miri_channel'].fillna('')\n",
    "# df2['miri_channel'] = df2['miri_channel'].astype(str)\n",
    "\n",
    "df2.loc[(df2['detector']=='MIRIFUSHORT, MIRIFULONG'), 'miri_channel'] = '12, 34'\n",
    "# df2.loc[(df2['opticalElements'].str.contains('CH12')) & (df2['opticalElements'].str.contains('CH34')) & (df2['detector'].str.contains('MIRIFU')), 'miri_channel'] = '12, 34'\n",
    "\n",
    "df2['readpat'] = df2['readpat'].fillna('')\n",
    "df2['readpat'] = df2['readpat'].astype(str)\n",
    "df2.loc[(df2['tframe']<3) & (df2['frmdivsr']==1) & (df2['nresets']==1), 'readpat'] = 'FASTR1'\n",
    "df2.loc[(df2['tframe']<3) & (df2['frmdivsr']==1) & (df2['nresets']==0), 'readpat'] = 'FAST'\n",
    "df2.loc[(df2['tframe']<3) & (df2['frmdivsr']==4), 'readpat'] = 'FASTGRPAVG'\n",
    "df2.loc[(df2['tframe']<3) & (df2['frmdivsr']==8), 'readpat'] = 'FASTGRPAVG8'\n",
    "df2.loc[(df2['tframe']<3) & (df2['frmdivsr']==32), 'readpat'] = 'FASTGRPAVG32'\n",
    "df2.loc[(df2['tframe']<3) & (df2['frmdivsr']==64), 'readpat'] = 'FASTGRPAVG64'\n",
    "\n",
    "df2.loc[(df2['tframe']>3) & (df2['frmdivsr']==1) & (df2['nresets']==1), 'readpat'] = 'SLOWR1'\n",
    "df2.loc[(df2['tframe']>3) & (df2['frmdivsr']==1) & (df2['nresets']==0), 'readpat'] = 'SLOW'\n",
    "\n",
    "df2 = df2.reset_index()\n",
    "df2 = df2.drop(df2[df2['fileSetName'].str.contains('-')].index)\n",
    "\n",
    "df2 = df2.sort_values(['program', 'observtn'],axis=0, ascending=False) # latest program first\n",
    "# df2 = df2.drop_duplicates(subset=['obs_id', 'exp_type']) # Uncomment this line to remove duplicates based on obs_id and exp_type. This will keep only 1 dither position per exposure.\n",
    "df2 = df2.reindex(good_columns, axis=1)\n",
    "if save:\n",
    "    with open(f\"./JWST_MIRI_programs_info_updated{date.today()}.csv\", 'w') as outfile:\n",
    "        df2.to_csv(outfile, index=False) # save to a csv file and remove first index column"
   ]
  }
 ],
 "metadata": {
  "kernelspec": {
   "display_name": "astro",
   "language": "python",
   "name": "python3"
  },
  "language_info": {
   "codemirror_mode": {
    "name": "ipython",
    "version": 3
   },
   "file_extension": ".py",
   "mimetype": "text/x-python",
   "name": "python",
   "nbconvert_exporter": "python",
   "pygments_lexer": "ipython3",
   "version": "3.11.10"
  }
 },
 "nbformat": 4,
 "nbformat_minor": 2
}
