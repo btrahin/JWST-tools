{
 "cells": [
  {
   "cell_type": "markdown",
   "metadata": {},
   "source": [
    "<img style=\"float: center;\" src='https://github.com/STScI-MIRI/MRS-ExampleNB/raw/main/assets/banner1.png' alt=\"stsci_logo\" width=\"900px\"/> "
   ]
  },
  {
   "cell_type": "markdown",
   "metadata": {},
   "source": [
    "<a id=\"title_ID\"></a>\n",
    "# Store JWST data #"
   ]
  },
  {
   "cell_type": "markdown",
   "metadata": {},
   "source": [
    "**Goal:** Store JWST data into folders based on a logical architecture\n",
    "\n",
    "**Author:** Boris Trahin, Staff Scientist II, MIRI team\n",
    "\n",
    "**Last updated:** August 1st, 2024"
   ]
  },
  {
   "cell_type": "markdown",
   "metadata": {},
   "source": [
    "<div class=\"alert alert-block alert-info\">\n",
    "How to use:\n",
    "\n",
    "- Change input_folder and output_folder below.\n",
    "\n",
    "- Code will find all FITS and ECSV files and store them in a corresponding folder based on the following structure:<br>\n",
    "&emsp;→ Output_dir <br>\n",
    "&emsp;&emsp;↳ Program ID <br>\n",
    "&emsp;&emsp;&emsp;↳ Source name <br>\n",
    "&emsp;&emsp;&emsp;&emsp;↳ Instrument (MIRI, NIRCam, NIRSpec, NIRISS, FGS) <br>\n",
    "&emsp;&emsp;&emsp;&emsp;&emsp;↳ Mode (Imaging, MRS, etc.) <br>\n",
    "&emsp;&emsp;&emsp;&emsp;&emsp;&emsp;↳ Observation number <br>\n",
    "&emsp;&emsp;&emsp;&emsp;&emsp;&emsp;&emsp;↳ Array or subarray (FULL, BRIGHTSKY, etc.) <br>\n",
    "&emsp;&emsp;&emsp;&emsp;&emsp;&emsp;&emsp;&emsp;↳ Observation type (Background, Science or Imprint) <br>\n",
    "&emsp;&emsp;&emsp;&emsp;&emsp;&emsp;&emsp;&emsp;&emsp;↳ (OPTIONAL: Filter, Channel, Band) <br>\n",
    "&emsp;&emsp;&emsp;&emsp;&emsp;&emsp;&emsp;&emsp;&emsp;&emsp;↳ Pipeline stage <br>\n",
    "\n",
    "- By default all filters and/or channel/band data are stored in a same stage folders. One can turn on the corresponding *_folder parameter below.\n",
    "\n",
    "- Other files (i.e. json) will be placed in an Other_files folder\n",
    "</div>"
   ]
  },
  {
   "cell_type": "markdown",
   "metadata": {},
   "source": [
    "***\n",
    "## Import packages"
   ]
  },
  {
   "cell_type": "code",
   "execution_count": 6,
   "metadata": {},
   "outputs": [],
   "source": [
    "import glob\n",
    "import os\n",
    "import shutil\n",
    "from astropy.io import fits"
   ]
  },
  {
   "cell_type": "markdown",
   "metadata": {},
   "source": [
    "***\n",
    "## Get input and output folders"
   ]
  },
  {
   "cell_type": "code",
   "execution_count": 7,
   "metadata": {},
   "outputs": [],
   "source": [
    "input_folder = '/Users/btrahin/Desktop/MAST_2024-08-06T13_56_50.582Z'\n",
    "output_folder = '/Users/btrahin/Data/'\n",
    "\n",
    "filter_folder = False\n",
    "channel_folder = False\n",
    "band_folder = False"
   ]
  },
  {
   "cell_type": "markdown",
   "metadata": {},
   "source": [
    "***\n",
    "## Store FITS files"
   ]
  },
  {
   "cell_type": "code",
   "execution_count": 8,
   "metadata": {},
   "outputs": [],
   "source": [
    "# do fits files first\n",
    "fits_files = glob.glob(input_folder + '/**/*.fits', recursive=True)\n",
    "\n",
    "for f in fits_files:\n",
    "    with fits.open(f) as hdu:\n",
    "        # store data in corresponding PID folder\n",
    "        program = hdu[0].header['PROGRAM']\n",
    "\n",
    "        # store data in corresponding source name folder\n",
    "        # based on TARGNAME\n",
    "        if 'TARGNAME' in hdu[0].header.keys():\n",
    "            if hdu[0].header['TARGNAME'] != '':\n",
    "                source = hdu[0].header['TARGNAME'].strip(' ').replace(' ', '_')\n",
    "            else:\n",
    "                source = hdu[0].header['TARGPROP'].strip(' ').replace(' ', '_')\n",
    "        \n",
    "        # based on TARGPROP\n",
    "        # if 'TARGPROP' in hdu[0].header.keys():\n",
    "        #     if hdu[0].header['TARGPROP'] != '':\n",
    "        #         source = hdu[0].header['TARGPROP'].strip(' ').replace(' ', '_')\n",
    "        #     else:\n",
    "        #         source = hdu[0].header['TARGNAME'].strip(' ').replace(' ', '_')\n",
    "\n",
    "        # store data in corresponding instrument, mode and subarray folder\n",
    "        instru = hdu[0].header['INSTRUME']\n",
    "        mode = hdu[0].header['EXP_TYPE']\n",
    "        subarray = hdu[0].header['SUBARRAY']\n",
    "        ppsaperture = hdu[0].header['PPS_APER']\n",
    "\n",
    "        # Check if simultaneous observations\n",
    "        if any(i in mode for i in ['IMG', 'IMAGE']) and 'MIRIFU' in ppsaperture:\n",
    "                mode += '_PARALLEL_MRS'\n",
    "        \n",
    "        # store data in corresponding instrument folder\n",
    "        if 'MIR_' in mode:\n",
    "            instru == 'MIRI'\n",
    "        elif 'NRC' in mode:\n",
    "            instru = 'NIRCam'\n",
    "        elif 'NRS' in mode:\n",
    "            instru = 'NIRSpec'\n",
    "        elif 'NIS_' in mode:\n",
    "            instru = 'NIRISS'\n",
    "        \n",
    "        # Check if parallel observations\n",
    "        if hdu[0].header['EXPRIPAR']=='PARALLEL_COORDINATED':\n",
    "            mode += f\"_PARALLEL_{hdu[0].header['TEMPLATE'].split(' ')[0]}\"\n",
    "\n",
    "         # store data in observation number folder\n",
    "        obs_number = hdu[0].header['OBSERVTN']\n",
    "\n",
    "        # store data in corresponding readout pattern folder\n",
    "        readout = hdu[0].header['READPATT']\n",
    "\n",
    "        # store data in corresponding Background, Science or Imprint folder\n",
    "        bkg_names = ['-BK', ' BK', 'BK', '-BG', ' BG', 'BG', '-OFFSET', ' OFFSET', 'OFFSET', '-BKG', ' BKG',\n",
    "                        'BKG']\n",
    "        if hdu[0].header['BKGDTARG'] is True:\n",
    "            data_type = 'Background'\n",
    "        elif any(w in source for w in bkg_names):\n",
    "            for i in bkg_names:\n",
    "                source = source.replace(i, '')\n",
    "            data_type = 'Background'\n",
    "        elif 'IS_IMPRT' in hdu[0].header.keys():\n",
    "            if hdu[0].header['IS_IMPRT'] is True:\n",
    "                data_type += '_Imprint'\n",
    "        else:\n",
    "            data_type = 'Science'\n",
    "        \n",
    "        # OPTIONAL: store data in corresponding filter folder, channel and/or band\n",
    "        filter_dir, channel_dir, band_dir = False, False, False\n",
    "        \n",
    "        if filter_folder:\n",
    "            if 'FILTER' in hdu[0].header.keys():\n",
    "                data_filter = hdu[0].header['FILTER']\n",
    "                filter_dir = True\n",
    "            else:\n",
    "                filter_dir = False\n",
    "        if channel_folder:\n",
    "            if 'CHANNEL' in hdu[0].header.keys():\n",
    "                data_channel = hdu[0].header['CHANNEL']\n",
    "                channel_dir = True\n",
    "            else:\n",
    "                channel_dir = False\n",
    "        if band_folder:\n",
    "            if 'BAND' in hdu[0].header.keys():\n",
    "                data_band = hdu[0].header['BAND']\n",
    "                band_dir = True\n",
    "            else:\n",
    "                band_dir = False\n",
    "\n",
    "        # Create folder path\n",
    "        if output_folder != '':\n",
    "            output_dir = output_folder\n",
    "        else:\n",
    "            output_dir = os.path.join(input_folder, '..')\n",
    "            \n",
    "        folder_path = [program, source, instru, mode, obs_number, data_type, subarray, readout]\n",
    "\n",
    "        if filter_dir:\n",
    "            folder_path.append(data_filter)\n",
    "        if channel_dir:\n",
    "            folder_path.append(data_channel)\n",
    "        if band_dir:\n",
    "            folder_path.append(data_band)\n",
    "\n",
    "        for i in folder_path:\n",
    "            if not os.path.exists(os.path.join(output_dir, i)):\n",
    "                os.makedirs(os.path.join(output_dir, i))\n",
    "            output_dir = os.path.join(output_dir, i)\n",
    "\n",
    "        # Store data in corresponding pipeline stage folder\n",
    "        stage0_ext = ['_uncal']\n",
    "        stage1_ext = ['_rate', '_rateints', '_ramp', '_trapsfilled']\n",
    "        stage2_ext = ['_cal', '_calints', '_x1d', '_x1dints', '_s3d', '_i2d', '_s2d', '_bsub', '_bsubints']\n",
    "        stage3_ext = ['_crf', '_crfints', '_whtlt', '_psfstack', '_phot', '_psfalign', '_psfsub', '_cat', '_segm', '_x1d', '_s3d', '_i2d', '_s2d', '_c1d', '_ami', '_aminorm']\n",
    "        if any(ext in f for ext in stage0_ext):\n",
    "            if not os.path.exists(os.path.join(output_dir, 'stage0')):\n",
    "                os.makedirs(os.path.join(output_dir, 'stage0'))\n",
    "            stage0 = os.path.join(output_dir, 'stage0')\n",
    "            shutil.move(f, os.path.join(stage0, f.split('/')[-1]))\n",
    "        elif any(ext in f for ext in stage1_ext):\n",
    "            if not os.path.exists(os.path.join(output_dir, 'stage1')):\n",
    "                os.makedirs(os.path.join(output_dir, 'stage1'))\n",
    "            stage1 = os.path.join(output_dir, 'stage1')\n",
    "            shutil.move(f, os.path.join(stage1, f.split('/')[-1]))\n",
    "        elif ('Level3' in f):\n",
    "            if not os.path.exists(os.path.join(output_dir, 'stage3')):\n",
    "                os.makedirs(os.path.join(output_dir, 'stage3'))\n",
    "            stage3 = os.path.join(output_dir, 'stage3')\n",
    "            shutil.move(f, os.path.join(stage3, f.split('/')[-1]))\n",
    "        elif ('_t0' not in f) and any(ext in f for ext in stage2_ext):\n",
    "            if not os.path.exists(os.path.join(output_dir, 'stage2')):\n",
    "                os.makedirs(os.path.join(output_dir, 'stage2'))\n",
    "            stage2 = os.path.join(output_dir, 'stage2')\n",
    "            shutil.move(f, os.path.join(stage2, f.split('/')[-1]))\n",
    "        elif ('_t0' in f) and any(ext in f for ext in stage3_ext):\n",
    "            if not os.path.exists(os.path.join(output_dir, 'stage3')):\n",
    "                os.makedirs(os.path.join(output_dir, 'stage3'))\n",
    "            stage3 = os.path.join(output_dir, 'stage3')\n",
    "            shutil.move(f, os.path.join(stage3, f.split('/')[-1]))\n",
    "        elif any(ext in f for ext in stage3_ext):\n",
    "            if not os.path.exists(os.path.join(output_dir, 'stage3')):\n",
    "                os.makedirs(os.path.join(output_dir, 'stage3'))\n",
    "            stage3 = os.path.join(output_dir, 'stage3')\n",
    "            shutil.move(f, os.path.join(stage3, f.split('/')[-1]))"
   ]
  },
  {
   "cell_type": "markdown",
   "metadata": {},
   "source": [
    "***\n",
    "## Store ECSV files"
   ]
  },
  {
   "cell_type": "code",
   "execution_count": 9,
   "metadata": {},
   "outputs": [],
   "source": [
    "# do ecsv (_cat, _whtlt, _phot) files\n",
    "ecsv_files = glob.glob(input_folder + '/**/*.ecsv', recursive=True)\n",
    "fits_files_sort = glob.glob(output_folder + '/**/*.fits', recursive=True)\n",
    "for e in ecsv_files:\n",
    "    e_name = e.split('/')[-1].rsplit('_',1)[0]\n",
    "    for f in fits_files_sort:\n",
    "        if e_name in f:\n",
    "            folder = f.rsplit('/',1)[0]\n",
    "            shutil.move(e, os.path.join(folder, e.split('/')[-1]))\n",
    "            break"
   ]
  },
  {
   "cell_type": "markdown",
   "metadata": {},
   "source": [
    "***\n",
    "## Store other files"
   ]
  },
  {
   "cell_type": "code",
   "execution_count": 10,
   "metadata": {},
   "outputs": [],
   "source": [
    "# put other files into Other_files folder\n",
    "other_files = [f for f in glob.glob(input_folder + '/**/*', recursive=True) if os.path.isfile(f)]\n",
    "for o in other_files:\n",
    "    folder = os.path.join(output_folder, 'Other_files')\n",
    "    if len(other_files) > 0:\n",
    "        if not os.path.exists(folder):\n",
    "            os.makedirs(folder)\n",
    "        shutil.move(o, os.path.join(folder, o.split('/')[-1]))"
   ]
  },
  {
   "cell_type": "markdown",
   "metadata": {},
   "source": [
    "***\n",
    "<img style=\"float: center;\" src=\"https://www.stsci.edu/~dlaw/stsci_logo.png\" alt=\"stsci_logo\" width=\"200px\"/> "
   ]
  }
 ],
 "metadata": {
  "kernelspec": {
   "display_name": "astro",
   "language": "python",
   "name": "python3"
  },
  "language_info": {
   "codemirror_mode": {
    "name": "ipython",
    "version": 3
   },
   "file_extension": ".py",
   "mimetype": "text/x-python",
   "name": "python",
   "nbconvert_exporter": "python",
   "pygments_lexer": "ipython3",
   "version": "3.11.9"
  }
 },
 "nbformat": 4,
 "nbformat_minor": 2
}
