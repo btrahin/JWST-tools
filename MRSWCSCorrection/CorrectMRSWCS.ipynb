{
 "cells": [
  {
   "cell_type": "markdown",
   "id": "651c89d8",
   "metadata": {},
   "source": [
    "<img style=\"float: center;\" src='https://github.com/STScI-MIRI/MRS-ExampleNB/raw/main/assets/banner1.png' alt=\"stsci_logo\" width=\"900px\"/> "
   ]
  },
  {
   "cell_type": "markdown",
   "id": "aa04a6ac",
   "metadata": {},
   "source": [
    "<a id=\"title_ID\"></a>\n",
    "# Improving JWST MIRI/MRS WCS using simultaneous imaging #"
   ]
  },
  {
   "cell_type": "markdown",
   "id": "9ce88c7d",
   "metadata": {},
   "source": [
    "**Goal:** Improving JWST MIRI/MRS WCS using source detection on simultaneous imaging.\n",
    "\n",
    "**Author:** Boris Trahin, Staff Scientist II, MIRI team\n",
    "\n",
    "**Last updated:** January 29th, 2024"
   ]
  },
  {
   "cell_type": "markdown",
   "id": "b89763db",
   "metadata": {},
   "source": [
    "<div class=\"alert alert-block alert-info\">\n",
    "How to use:\n",
    "\n",
    "- Change mrs_dir and mirim_dir directories below to MRS _rate and MIRIM simultaneous _cal files directories.\n",
    "\n",
    "- Search for source detection parameters is automatic unless auto_find = False (takes much more time).\n",
    "\n",
    "- Look at the results (plots below before and after the WCS correction).\n",
    "\n",
    "- Change correct_mrs = True if number of detected sources/result looks good.\n",
    "</div>"
   ]
  },
  {
   "cell_type": "markdown",
   "id": "2d6306f3",
   "metadata": {},
   "source": [
    "<div class=\"alert alert-block alert-warning\">\n",
    "Workbook still in progress.\n",
    "\n",
    "- Optimization is needed ()\n",
    "\n",
    "</div>"
   ]
  },
  {
   "cell_type": "markdown",
   "id": "56ec45d0",
   "metadata": {},
   "source": [
    "***\n",
    "## Import packages"
   ]
  },
  {
   "cell_type": "code",
   "execution_count": 1,
   "id": "ae5fda18",
   "metadata": {},
   "outputs": [],
   "source": [
    "import os\n",
    "import glob\n",
    "import numpy as np\n",
    "from astropy.io import fits\n",
    "from astropy.visualization import interval\n",
    "import matplotlib.colors as matcol\n",
    "from matplotlib import cm\n",
    "from astropy.coordinates import SkyCoord\n",
    "from astropy.wcs import WCS\n",
    "import astropy.units as u\n",
    "from photutils.detection import DAOStarFinder, IRAFStarFinder\n",
    "from astropy.stats import sigma_clipped_stats, sigma_clip\n",
    "from astropy.units import Quantity\n",
    "from astroquery.gaia import Gaia\n",
    "import logging\n",
    "from stdatamodels.jwst import datamodels\n",
    "from itertools import product\n",
    "\n",
    "# widget for interactive plots\n",
    "%matplotlib widget \n",
    "# %matplotlib inline\n",
    "import matplotlib.pyplot as plt\n",
    "logging.getLogger(\"astroquery\").setLevel(logging.ERROR)"
   ]
  },
  {
   "cell_type": "markdown",
   "id": "ec21ae67",
   "metadata": {},
   "source": [
    "***\n",
    "## Get data"
   ]
  },
  {
   "cell_type": "markdown",
   "id": "d191dae8",
   "metadata": {},
   "source": [
    "<div class=\"alert alert-block alert-info\">\n",
    "Source detection and offset calculation are performed on MIRIM/MRS simultaneous imaging _cal files (i.e. outputs from Image2Pipeline).\n",
    "\n",
    "MRS files to be modified are the _rate files (i.e. outputs from Detector1Pipeline). \n",
    "The assign_wcs step in spec2 use the RA_REF/DEC_REF keywords with the instrument distortion model to build a combined WCS object for the data that gets stored in the ASDF extension, which is then used by everything downstream.\n",
    "</div>"
   ]
  },
  {
   "cell_type": "code",
   "execution_count": null,
   "metadata": {},
   "outputs": [],
   "source": [
    "# Directory to MRS _rate images to correct (stage 1 Detector1Pipeline outputs)\n",
    "mrs_dir = '/Users/btrahin/Data/03226/J1505+3721/MRS/Science/SLOWR1/stage1'\n",
    "\n",
    "# Directory to MIRIM/MRS parallel _cal images to align (stage 2 Image2Pipeline outputs).\n",
    "mirim_dir = '/Users/btrahin/Data/03226/J1505+3721/MIRIM/Science/FULL_MRS/FASTR1/stage2'"
   ]
  },
  {
   "cell_type": "code",
   "execution_count": null,
   "id": "85e8fc0c",
   "metadata": {},
   "outputs": [],
   "source": [
    "mrs_files = np.array(sorted(glob.glob(os.path.join(mrs_dir, '*[!wcs]_rate.fits'))))\n",
    "mirim_files = np.array(sorted(glob.glob(os.path.join(mirim_dir, '*[!wcs]_cal.fits'))))\n",
    "\n",
    "print(f'Found {len(mrs_files)} MRS images to process in {mrs_dir}')\n",
    "print(f'Found {len(mirim_files)} MIRIM//MRS images to process in {mirim_dir}')"
   ]
  },
  {
   "cell_type": "markdown",
   "id": "c4892c1a",
   "metadata": {},
   "source": [
    "***\n",
    "## Perform WCS correction"
   ]
  },
  {
   "cell_type": "markdown",
   "id": "5e619d17",
   "metadata": {},
   "source": [
    "### Define useful functions"
   ]
  },
  {
   "cell_type": "markdown",
   "id": "220f132c",
   "metadata": {},
   "source": [
    "<div class=\"alert alert-block alert-info\">\n",
    "find_source is used to detect sources in the MIRIM images, using DAOStarFinder. Background is first determined and subtracted using sigma_clip statistics. sigma and threshold parameters can be modified.\n",
    "</div>"
   ]
  },
  {
   "cell_type": "code",
   "execution_count": null,
   "id": "d8041d4b",
   "metadata": {},
   "outputs": [],
   "source": [
    "# find sources using DAOStarFinder\n",
    "def find_sources(hdu, sigma, threshold, method='DAO'):\n",
    "    # https://photutils.readthedocs.io/en/stable/api/photutils.detection.DAOStarFinder.html\n",
    "    data = hdu['SCI'].data\n",
    "    header = hdu['SCI'].header\n",
    "    hdr = hdu[0].header\n",
    "    dq = hdu['DQ'].data\n",
    "    w = WCS(header)\n",
    "    mirifilt = hdr['FILTER']\n",
    "    mask = np.zeros(data.shape, dtype=bool)\n",
    "    # mask[dq!=0] = True\n",
    "    badflag = np.where(np.bitwise_and(dq, datamodels.dqflags.pixel['DO_NOT_USE']))\n",
    "    mask[badflag] = True\n",
    "    wave = int(\"\".join(filter(str.isdigit, mirifilt)))/100\n",
    "    psf_arcsec = wave * 1e-6 / 6.5 / (2 * np.pi / (360 * 3600))\n",
    "    psf_pixel = psf_arcsec/0.11\n",
    "    mean, median, std = sigma_clipped_stats(data, sigma=sigma, mask=mask)\n",
    "    if method == 'DAO':\n",
    "        daofind = DAOStarFinder(fwhm=psf_pixel, threshold=threshold*std)\n",
    "        sources = daofind(data - median, mask=mask)\n",
    "    elif method == 'IRAF':\n",
    "        iraffind = IRAFStarFinder(fwhm=psf_pixel, threshold=threshold*std)\n",
    "        sources = iraffind(data - median, mask=mask)\n",
    "    positions_xy = [x for x in np.transpose((sources['xcentroid'], sources['ycentroid']))]\n",
    "    pix2radec = [w.pixel_to_world(x[0],x[1]) for x in positions_xy]\n",
    "    positions_radec = [[x.ra.deg, x.dec.deg] for x in pix2radec]\n",
    "    return positions_radec, positions_xy"
   ]
  },
  {
   "cell_type": "markdown",
   "id": "613b51ac",
   "metadata": {},
   "source": [
    "<div class=\"alert alert-block alert-info\">\n",
    "find_gaia is used to find sources from the Gaia DR3 catalog in the imager FOV. \n",
    "</div>"
   ]
  },
  {
   "cell_type": "code",
   "execution_count": null,
   "id": "2ab249c3",
   "metadata": {},
   "outputs": [],
   "source": [
    "# find Gaia DR3 sources in the FOV\n",
    "def get_gaia_catalog(hdu):\n",
    "    header = hdu['SCI'].header\n",
    "    w = WCS(header)\n",
    "    coord = SkyCoord(ra=header['CRVAL1'], dec=header['CRVAL2'], unit=(u.deg, u.deg))\n",
    "    if 'CDELT1' in header.keys():\n",
    "        radius = Quantity(3600 * header['CDELT1'] * header['NAXIS1'], u.arcsec)\n",
    "    else:\n",
    "        radius = Quantity(np.sqrt(header['PIXAR_A2']) * header['NAXIS1'], u.arcsec)\n",
    "    Gaia.ROW_LIMIT = -1\n",
    "    gaia_query = Gaia.query_object_async(coordinate=coord, radius=radius)\n",
    "    reduced_query = gaia_query['ra', 'dec', 'ra_error', 'dec_error']\n",
    "    return reduced_query    \n",
    "\n",
    "def find_gaia_sources(hdu, reduced_query):\n",
    "    header = hdu['SCI'].header\n",
    "    w = WCS(header)\n",
    "    radec2pix = w.world_to_pixel(SkyCoord(ra=reduced_query['ra'], dec=reduced_query['dec'], unit=(u.deg, u.deg)))\n",
    "    radec2pix_transpose = np.transpose((radec2pix[0], radec2pix[1]))\n",
    "    all_positions_radec = [[x['ra'], x['dec']] for x in reduced_query]\n",
    "    all_err_positions_radec = [[x['ra_error'], x['dec_error']] for x in reduced_query]\n",
    "    positions_xy = []\n",
    "    positions_radec = []\n",
    "    err_positions_radec = []\n",
    "    for i in range(len(radec2pix_transpose)):\n",
    "        if 0<radec2pix_transpose[i][0]<1032 and (0<radec2pix_transpose[i][1]<1024):\n",
    "            positions_xy.append(radec2pix_transpose[i])\n",
    "            positions_radec.append(all_positions_radec[i])\n",
    "            err_positions_radec.append(all_err_positions_radec[i])\n",
    "    return positions_radec, positions_xy, err_positions_radec"
   ]
  },
  {
   "cell_type": "markdown",
   "id": "6134c9d7",
   "metadata": {},
   "source": [
    "<div class=\"alert alert-block alert-info\">\n",
    "find_common_sources is used to create a list of common sources from the Gaia DR3 catalog and the ones detected in the image. Radius can be changed to increase/decrease the distance between sources for a match.\n",
    "</div>"
   ]
  },
  {
   "cell_type": "code",
   "execution_count": null,
   "id": "1e09dba4",
   "metadata": {},
   "outputs": [],
   "source": [
    "# find common Gaia DR3/image sources \n",
    "def find_common_sources(sources1, sources2, radius):\n",
    "    # sources 1 detected, sources 2 gaia, radius in arcsec\n",
    "    common_sources = []\n",
    "    sources1_all, sources2_all = [], []\n",
    "    for i in range(len(sources1)):\n",
    "        deltas = sources2 - sources1[i]\n",
    "        d = np.einsum('ij,ij->i', deltas, deltas)\n",
    "        dx2 = (sources2[np.argmin(d)][0] - sources1[i][0])**2\n",
    "        dy2 = (sources2[np.argmin(d)][1] - sources1[i][1])**2\n",
    "        dist = np.sqrt(dx2 + dy2)\n",
    "        if dist <= radius/0.11:\n",
    "            sources2_all.append(np.argmin(d))\n",
    "            sources1_all.append(i)\n",
    "    for i in range(len(sources2_all)):\n",
    "        if sources2_all.count(sources2_all[i]) == 1: # here to avoid taking sources in psf wings\n",
    "            common_sources.append([sources1_all[i], sources2_all[i]])\n",
    "    return common_sources"
   ]
  },
  {
   "cell_type": "markdown",
   "id": "b86b645c",
   "metadata": {},
   "source": [
    "<div class=\"alert alert-block alert-info\">\n",
    "plot_images is used to plot the MIRIM image with the detected sources, Gaia sources and common sources used for the offset computation. The onesource parameter is used to zoom in on a source.\n",
    "</div>"
   ]
  },
  {
   "cell_type": "code",
   "execution_count": null,
   "id": "0171b28d",
   "metadata": {},
   "outputs": [],
   "source": [
    "scale = interval.ZScaleInterval(n_samples=800, contrast=0.3, max_reject=0.5, min_npixels=5, krej=2.5,max_iterations=5)\n",
    "\n",
    "def plot_images(hdu, sources, gaia, common, index, plot=True, onesource=False):\n",
    "    # onesource: zoom in on a source\n",
    "    if plot:\n",
    "        ax = plt.subplot(len(mirim_files)//3+1, 3, index)\n",
    "        data = hdu['SCI'].data\n",
    "        header = hdu['SCI'].header\n",
    "        (vmin, vmax) = scale.get_limits(data)\n",
    "        normalization = matcol.Normalize(vmin=vmin, vmax=vmax)\n",
    "        im = plt.imshow(data, origin = 'lower', norm=normalization,cmap = cm.grey)\n",
    "        for g in gaia:\n",
    "\n",
    "            ax.plot(g[0],g[1], marker='x', color='blue', markersize=0.5)\n",
    "            circle_gaia = plt.Circle([g[0],g[1]], 10 , fill = False, color='blue', linewidth=0.3, linestyle='-')\n",
    "            ax.add_artist(circle_gaia)\n",
    "        for s in sources:\n",
    "            ax.plot(s[0],s[1], marker='x', color='red', markersize=0.5)\n",
    "            circle_source = plt.Circle(s, 10 , fill = False, color='red', linewidth=0.3, linestyle='-')\n",
    "            ax.add_artist(circle_source)\n",
    "        for c in common:\n",
    "            ax.plot(sources[c[0]][0], sources[c[0]][1], marker='x', color='yellow', markersize=0.5)\n",
    "            circle_common = plt.Circle(sources[c[0]], 10 , fill = False, color='yellow', linewidth=0.3, linestyle='-')\n",
    "            ax.add_artist(circle_common)\n",
    "        if len(gaia)>0:\n",
    "            ax.plot([],[], marker='o', markerfacecolor='None', markeredgecolor='blue', markersize=5, markeredgewidth=0.3, linestyle='', label='Gaia DR3 source')\n",
    "        if len(common)>0:\n",
    "            ax.plot([],[], marker='o', markerfacecolor='None', markeredgecolor='yellow', markersize=5, markeredgewidth=0.3, linestyle='', label='Common sources')\n",
    "        if len(sources)>0:\n",
    "            ax.plot([],[], marker='o', markerfacecolor='None', markeredgecolor='red', markersize=5, markeredgewidth=0.3, linestyle='', label='Detected source')\n",
    "        if onesource:\n",
    "            ax.set_xlim(sources[common[0][0]][0]-20, sources[common[0][0]][0]+20)\n",
    "            ax.set_ylim(sources[common[0][0]][1]-20, sources[common[0][0]][1]+20)\n",
    "        ax.legend(fontsize=4, loc='lower left')\n",
    "        ax.set_title(f\"{hdu[0].header['FILENAME']}\",fontsize=5)\n",
    "        plt.tight_layout()\n",
    "\n",
    "    else:\n",
    "        return\n",
    "    "
   ]
  },
  {
   "cell_type": "markdown",
   "id": "c3ac4035",
   "metadata": {},
   "source": [
    "<div class=\"alert alert-block alert-info\">\n",
    "shift_compute is used to compute the offset in RA and DEC. For now, it justs calculates the median after a sigma clipping.\n",
    "</div>"
   ]
  },
  {
   "cell_type": "code",
   "execution_count": null,
   "id": "74f58e75",
   "metadata": {},
   "outputs": [],
   "source": [
    "# compute offset (to be modified)\n",
    "def shift_compute(sources, gaia, common, err_gaia=None):\n",
    "    gaia_common = np.array([gaia[x[1]] for x in common])\n",
    "    sources_common = np.array([sources[x[0]] for x in common])\n",
    "    deltas_ra = [sources_common[x][0]-gaia_common[x][0] for x in range(len(gaia_common))]\n",
    "    deltas_dec = [sources_common[x][1]-gaia_common[x][1] for x in range(len(gaia_common))]\n",
    "    if err_gaia:\n",
    "        err_gaia_common = np.array([err_gaia[x[1]] for x in common])\n",
    "        deltas_ra = [deltas_ra[ei] for ei in range(len(err_gaia_common)) if err_gaia_common[ei][0]/gaia_common[ei][0]<0.05]\n",
    "        deltas_dec = [deltas_dec[ei] for ei in range(len(err_gaia_common)) if err_gaia_common[ei][1]/gaia_common[ei][1]<0.05]\n",
    "    _, delta_ra, _ = sigma_clipped_stats(deltas_ra, sigma=2)\n",
    "    _, delta_dec, _ = sigma_clipped_stats(deltas_dec, sigma=2)\n",
    "    return delta_ra, delta_dec"
   ]
  },
  {
   "cell_type": "markdown",
   "id": "b3c0fba9",
   "metadata": {},
   "source": [
    "<div class=\"alert alert-block alert-info\">\n",
    "obs_association is used to create a dictionnary of the MIRIM _cal files and the corresponding MRS _rate simultaneous observations.\n",
    "</div>"
   ]
  },
  {
   "cell_type": "code",
   "execution_count": null,
   "id": "499a2cea",
   "metadata": {},
   "outputs": [],
   "source": [
    "# associates mirim obs with mrs obs (to be modified)\n",
    "def obs_association(mirim_files, mrs_files):\n",
    "    dic = {}\n",
    "    alr = []\n",
    "    for mirim in mirim_files:\n",
    "        with fits.open(mirim) as hdu_mirim:\n",
    "            hdr_mirim = hdu_mirim[0].header\n",
    "            dic[mirim]=[]\n",
    "            for mrs in mrs_files:\n",
    "                if mrs not in alr:\n",
    "                    with fits.open(mrs) as hdu_mrs:\n",
    "                        hdr_mrs = hdu_mrs[0].header\n",
    "                        if (hdr_mrs['PROGRAM']==hdr_mirim['PROGRAM']) & (hdr_mrs['VISITGRP']==hdr_mirim['VISITGRP']) & (hdr_mrs['OBSERVTN']==hdr_mirim['OBSERVTN']) & (hdr_mrs['EXPOSURE']==hdr_mirim['EXPOSURE']):\n",
    "                            dic[mirim].append(mrs)\n",
    "                            alr.append(mrs)\n",
    "    return dic"
   ]
  },
  {
   "cell_type": "markdown",
   "id": "d4f96c1f",
   "metadata": {},
   "source": [
    "### Source detection and WCS correction of the MRS observations "
   ]
  },
  {
   "cell_type": "markdown",
   "id": "3dd5ed9e",
   "metadata": {},
   "source": [
    "<div class=\"alert alert-block alert-info\">\n",
    "User has to set a sigma and threshold value for sources detection.\n",
    "\n",
    "Some useful parameters:\n",
    "- auto_find tries to find the best sigma/threshold values in the sigma_values/threshold_values but takes much more time to run. Best sigma values are printed. Ranges can be adjusted for better detection.\n",
    "- plot shows \"interactive\" images with Gaia/sources detected BEFORE correction\n",
    "- correct_mrs = True if number of detected sources is OK\n",
    "</div>"
   ]
  },
  {
   "cell_type": "code",
   "execution_count": null,
   "id": "d50ba508",
   "metadata": {},
   "outputs": [],
   "source": [
    "sigma = 2.5 # sigma value used in find_sources to estimate bkg and bkg noise using sigma-clipped statistics\n",
    "threshold = 4. # x-sigma value used in find_sources to find stars in the image that have peaks approximately x-sigma above the background\n",
    "\n",
    "auto_find = True # Try to find the best sigma/threshold combination to optimize common sources detection (slower)\n",
    "plot = True # plot images with Gaia/sources detected BEFORE correction\n",
    "\n",
    "correct_mrs = False # save WCS corrected MRS files\n",
    "correct_mirim = True # save WCS corrected MIRIM files\n",
    "\n",
    "method = 'IRAF' # method for sources detection (IRAF or DAO, default is DAO)\n",
    "\n",
    "dic = obs_association(mirim_files, mrs_files) # associates mirim obs with mrs ones\n",
    "print(dic)\n",
    "\n",
    "sigma_values = np.arange(2.0, 5.0, 0.25)\n",
    "threshold_values = np.arange(2.0, 8.0, 0.5)"
   ]
  },
  {
   "cell_type": "markdown",
   "id": "5564d269",
   "metadata": {},
   "source": [
    "<div class=\"alert alert-block alert-info\">\n",
    "Here is the main code.\n",
    "</div>"
   ]
  },
  {
   "cell_type": "code",
   "execution_count": null,
   "id": "da7028b6",
   "metadata": {},
   "outputs": [],
   "source": [
    "if plot:\n",
    "    fig = plt.figure(figsize=(10,10), dpi=150)\n",
    "\n",
    "for i in range(len(mirim_files)):\n",
    "    with fits.open(mirim_files[i]) as hdu:\n",
    "        print(f'File {mirim_files[i]}')\n",
    "        if auto_find:\n",
    "            print('Finding best parameters for source detection...')\n",
    "            num_matches = 0\n",
    "            if i==0:\n",
    "                gaia_catalog = get_gaia_catalog(hdu)\n",
    "            for sigma_auto, threshold_auto in product(sigma_values, threshold_values):\n",
    "                sources_positions_radec, sources_positions_xy = find_sources(hdu, sigma=sigma_auto, threshold=threshold_auto, method=method)\n",
    "                gaia_positions_radec, gaia_positions_xy, err_gaia_positions_radec = find_gaia_sources(hdu, gaia_catalog)\n",
    "                common_sources = find_common_sources(sources_positions_xy, gaia_positions_xy, radius=2)\n",
    "                if num_matches <= len(common_sources) <= len(gaia_positions_xy):\n",
    "                    num_matches = len(common_sources)\n",
    "                    best_sigma = sigma_auto\n",
    "                    best_threshold = threshold_auto\n",
    "                    best_sources_radec, best_sources_xy = sources_positions_radec, sources_positions_xy\n",
    "                    best_gaia_radec, best_gaia_xy, best_gaia_err = gaia_positions_radec, gaia_positions_xy, err_gaia_positions_radec\n",
    "                    best_common = common_sources\n",
    "            print(f'Best sigma, threshold values used: {best_sigma, best_threshold}')\n",
    "        else:\n",
    "            best_sources_radec, best_sources_xy = find_sources(hdu, sigma=sigma, threshold=threshold, method=method)\n",
    "            if i==0:\n",
    "                gaia_catalog = get_gaia_catalog(hdu)\n",
    "            best_gaia_radec, best_gaia_xy, best_gaia_err = find_gaia_sources(hdu, gaia_catalog)\n",
    "            best_common = find_common_sources(best_sources_xy, best_gaia_xy, radius=2)\n",
    "            print(f'Sigma, threshold values used: {sigma, threshold}')\n",
    "        delta_ra, delta_dec = shift_compute(best_sources_radec, best_gaia_radec, best_common, None)\n",
    "        print(f'Number of sources detected: {len(best_sources_xy)}')\n",
    "        print(f'Number of Gaia DR3 sources: {len(best_gaia_xy)}')\n",
    "        print(f'Number of sources in common: {len(best_common)}')\n",
    "        print(f'Shifts RA, DEC (deg): {delta_ra}, {delta_dec}\\n')\n",
    "        plot_images(hdu, best_sources_xy, best_gaia_xy, best_common, i+1, plot, onesource=False)\n",
    "        if correct_mrs:\n",
    "            for mrs_obs in dic[mirim_files[i]]:\n",
    "                with fits.open(mrs_obs) as hdu_mrs:\n",
    "                    hdr_mrs = hdu_mrs['SCI'].header\n",
    "                    hdr_mrs['RA_REF']-=delta_ra\n",
    "                    hdr_mrs['DEC_REF']-=delta_dec\n",
    "                    hdr_mrs.append(('DELT_RA', delta_ra, 'WCS corr added to RA_REF from simult. imaging'))\n",
    "                    hdr_mrs.append(('DELT_DEC', delta_dec, 'WCS corr added to DEC_REF from simult. imaging'))\n",
    "                    hdu_mrs.writeto(mrs_obs.replace('_rate.fits', '_wcs_rate.fits'), overwrite=True)\n",
    "        if correct_mirim:\n",
    "            hdu['SCI'].header['RA_REF']-=delta_ra\n",
    "            hdu['SCI'].header['DEC_REF']-=delta_dec\n",
    "            hdu['SCI'].header['CRVAL1']-=delta_ra\n",
    "            hdu['SCI'].header['CRVAL2']-=delta_dec\n",
    "            hdu.writeto(mirim_files[i].replace('_cal.fits', '_wcs_cal.fits'), overwrite=True)"
   ]
  },
  {
   "cell_type": "markdown",
   "id": "ea26cff4",
   "metadata": {},
   "source": [
    "<div class=\"alert alert-block alert-info\">\n",
    "Plot positions of the Gaia sources AFTER WCS correction. \n",
    "\n",
    "Needs correct_mirim=True to get the corrected files (_wcs_cal.fits)\n",
    "</div>"
   ]
  },
  {
   "cell_type": "code",
   "execution_count": null,
   "id": "a8c1f406",
   "metadata": {},
   "outputs": [],
   "source": [
    "if correct_mirim:\n",
    "    mirim_files_corr = np.array(sorted(glob.glob(os.path.join(mirim_dir, '*wcs_cal.fits'))))\n",
    "\n",
    "    fig = plt.figure(figsize=(10,10), dpi=150)\n",
    "\n",
    "    for i in range(len(mirim_files_corr)):\n",
    "        with fits.open(mirim_files_corr[i]) as hdu:\n",
    "            gaia_positions_radec, gaia_positions_xy, err_gaia_positions_radec = find_gaia_sources(hdu, gaia_catalog)\n",
    "            plot_images(hdu, [], gaia_positions_xy, [], i+1, plot, onesource=False)"
   ]
  }
 ],
 "metadata": {
  "kernelspec": {
   "display_name": "Python 3 (ipykernel)",
   "language": "python",
   "name": "python3"
  },
  "language_info": {
   "codemirror_mode": {
    "name": "ipython",
    "version": 3
   },
   "file_extension": ".py",
   "mimetype": "text/x-python",
   "name": "python",
   "nbconvert_exporter": "python",
   "pygments_lexer": "ipython3",
   "version": "3.11.9"
  }
 },
 "nbformat": 4,
 "nbformat_minor": 5
}
